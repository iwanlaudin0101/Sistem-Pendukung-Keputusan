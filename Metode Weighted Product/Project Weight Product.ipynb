{
 "cells": [
  {
   "cell_type": "markdown",
   "metadata": {},
   "source": [
    "# Metode Weight Product"
   ]
  },
  {
   "cell_type": "code",
   "execution_count": 1,
   "metadata": {},
   "outputs": [],
   "source": [
    "\"\"\"\n",
    "KENAPA HARUS ADA PACKAGE PANDAS\n",
    "    > Mencoba mengvisualisasikan data frame dengan rapi\n",
    "    > Agar enak dipandang (biar nda bosan pas ngoding)\n",
    "\n",
    "\"\"\"\n",
    "import pandas as pd\n",
    "\n",
    "\"\"\"\n",
    "KENAPA HARUS ADA PACKAGE MATPLOTLIB\n",
    "    > Visualisasi dalam bentuk diagram\n",
    "    > Agar enak dipandang (biar nda bosan pas ngoding)\n",
    "\n",
    "\"\"\"\n",
    "import matplotlib.pyplot as plt"
   ]
  },
  {
   "cell_type": "markdown",
   "metadata": {},
   "source": [
    "# Alternatif Dan Kriteria"
   ]
  },
  {
   "cell_type": "code",
   "execution_count": 2,
   "metadata": {},
   "outputs": [],
   "source": [
    "\"\"\"\n",
    "    Data alternatif pilihan dari masing-masing rambutan yang akan di seleksi.\n",
    "    Maaf datanya dibuat dalam list manual tanpa menggunakan data csv\n",
    "\"\"\"\n",
    "alternatif = ['Rambutan Binjai','Rambutan Rapiah','Rambutan Lebak Bulus',\n",
    "              'Rambutan Narmada','Rambutan Sinyonya','Rambutan Garuda',\n",
    "              'Rambutan Kapulasan','Rambutan Cimacan'\n",
    "             ]\n",
    "\n",
    "# visualisasi menggunakan pandas DataFrame\n",
    "alt = pd.DataFrame(alternatif,columns = ['Alternatif Rambutan'])"
   ]
  },
  {
   "cell_type": "code",
   "execution_count": 3,
   "metadata": {},
   "outputs": [],
   "source": [
    "\"\"\"\n",
    "    Bobot dari masing-masing alternatif yang tersedia, jadi bobotnya ini di tentukan berdasarkan hasil penelitian.\n",
    "    Maaf datanya dibuat dalam list manual tanpa menggunakan data csv\n",
    "\"\"\"\n",
    "bobot_alternatif = [\n",
    "    [4, 3, 3, 3],\n",
    "    [3, 3, 2, 3],\n",
    "    [3, 4, 2, 3],\n",
    "    [3, 3, 3, 2],\n",
    "    [2, 4, 3, 1],\n",
    "    [3, 1, 1, 1],\n",
    "    [2, 1, 3, 2],\n",
    "    [3, 3, 3, 1]\n",
    "]\n",
    "\n",
    "# visualisasi menggunakan pandas DataFrame\n",
    "mat = pd.DataFrame(bobot_alternatif ,columns = ['Bobot C1','Bobot C2','Bobot C3','Bobot C4'])"
   ]
  },
  {
   "cell_type": "code",
   "execution_count": 4,
   "metadata": {},
   "outputs": [
    {
     "data": {
      "text/html": [
       "<div>\n",
       "<style scoped>\n",
       "    .dataframe tbody tr th:only-of-type {\n",
       "        vertical-align: middle;\n",
       "    }\n",
       "\n",
       "    .dataframe tbody tr th {\n",
       "        vertical-align: top;\n",
       "    }\n",
       "\n",
       "    .dataframe thead th {\n",
       "        text-align: right;\n",
       "    }\n",
       "</style>\n",
       "<table border=\"1\" class=\"dataframe\">\n",
       "  <thead>\n",
       "    <tr style=\"text-align: right;\">\n",
       "      <th></th>\n",
       "      <th>Alternatif Rambutan</th>\n",
       "      <th>Bobot C1</th>\n",
       "      <th>Bobot C2</th>\n",
       "      <th>Bobot C3</th>\n",
       "      <th>Bobot C4</th>\n",
       "    </tr>\n",
       "  </thead>\n",
       "  <tbody>\n",
       "    <tr>\n",
       "      <th>0</th>\n",
       "      <td>Rambutan Binjai</td>\n",
       "      <td>4</td>\n",
       "      <td>3</td>\n",
       "      <td>3</td>\n",
       "      <td>3</td>\n",
       "    </tr>\n",
       "    <tr>\n",
       "      <th>1</th>\n",
       "      <td>Rambutan Rapiah</td>\n",
       "      <td>3</td>\n",
       "      <td>3</td>\n",
       "      <td>2</td>\n",
       "      <td>3</td>\n",
       "    </tr>\n",
       "    <tr>\n",
       "      <th>2</th>\n",
       "      <td>Rambutan Lebak Bulus</td>\n",
       "      <td>3</td>\n",
       "      <td>4</td>\n",
       "      <td>2</td>\n",
       "      <td>3</td>\n",
       "    </tr>\n",
       "    <tr>\n",
       "      <th>3</th>\n",
       "      <td>Rambutan Narmada</td>\n",
       "      <td>3</td>\n",
       "      <td>3</td>\n",
       "      <td>3</td>\n",
       "      <td>2</td>\n",
       "    </tr>\n",
       "    <tr>\n",
       "      <th>4</th>\n",
       "      <td>Rambutan Sinyonya</td>\n",
       "      <td>2</td>\n",
       "      <td>4</td>\n",
       "      <td>3</td>\n",
       "      <td>1</td>\n",
       "    </tr>\n",
       "    <tr>\n",
       "      <th>5</th>\n",
       "      <td>Rambutan Garuda</td>\n",
       "      <td>3</td>\n",
       "      <td>1</td>\n",
       "      <td>1</td>\n",
       "      <td>1</td>\n",
       "    </tr>\n",
       "    <tr>\n",
       "      <th>6</th>\n",
       "      <td>Rambutan Kapulasan</td>\n",
       "      <td>2</td>\n",
       "      <td>1</td>\n",
       "      <td>3</td>\n",
       "      <td>2</td>\n",
       "    </tr>\n",
       "    <tr>\n",
       "      <th>7</th>\n",
       "      <td>Rambutan Cimacan</td>\n",
       "      <td>3</td>\n",
       "      <td>3</td>\n",
       "      <td>3</td>\n",
       "      <td>1</td>\n",
       "    </tr>\n",
       "  </tbody>\n",
       "</table>\n",
       "</div>"
      ],
      "text/plain": [
       "    Alternatif Rambutan  Bobot C1  Bobot C2  Bobot C3  Bobot C4\n",
       "0       Rambutan Binjai         4         3         3         3\n",
       "1       Rambutan Rapiah         3         3         2         3\n",
       "2  Rambutan Lebak Bulus         3         4         2         3\n",
       "3      Rambutan Narmada         3         3         3         2\n",
       "4     Rambutan Sinyonya         2         4         3         1\n",
       "5       Rambutan Garuda         3         1         1         1\n",
       "6    Rambutan Kapulasan         2         1         3         2\n",
       "7      Rambutan Cimacan         3         3         3         1"
      ]
     },
     "execution_count": 4,
     "metadata": {},
     "output_type": "execute_result"
    }
   ],
   "source": [
    "\"\"\"Menggabungkan kedua data hasil visualisasi menggunakan pandas DataFrame\"\"\"\n",
    "pd.merge(alt, mat, left_index=True , right_index=True)"
   ]
  },
  {
   "cell_type": "markdown",
   "metadata": {},
   "source": [
    "# Tentukan Bobot Awal"
   ]
  },
  {
   "cell_type": "code",
   "execution_count": 5,
   "metadata": {},
   "outputs": [
    {
     "name": "stdout",
     "output_type": "stream",
     "text": [
      "Rasa? 4\n",
      "Warna? 3\n",
      "Ukuran? 2\n",
      "Kandungan Air? 1\n"
     ]
    }
   ],
   "source": [
    "\"\"\"\n",
    "    Menentukan bobot awal dari masing-masing kriteria\n",
    "\"\"\"\n",
    "rasa = int(input('Rasa? '))\n",
    "warna = int(input('Warna? '))\n",
    "ukuran = int(input('Ukuran? '))\n",
    "kandungan_air = int(input('Kandungan Air? '))\n",
    "\n",
    "dict_criteria = {'C1': rasa, 'C2': warna, 'C3': ukuran, 'C4': kandungan_air}"
   ]
  },
  {
   "cell_type": "code",
   "execution_count": 6,
   "metadata": {},
   "outputs": [
    {
     "data": {
      "text/plain": [
       "{'C1': 4, 'C2': 3, 'C3': 2, 'C4': 1}"
      ]
     },
     "execution_count": 6,
     "metadata": {},
     "output_type": "execute_result"
    }
   ],
   "source": [
    "dict_criteria"
   ]
  },
  {
   "cell_type": "markdown",
   "metadata": {},
   "source": [
    "# Perbaiki Bobot"
   ]
  },
  {
   "cell_type": "code",
   "execution_count": 7,
   "metadata": {},
   "outputs": [
    {
     "name": "stdout",
     "output_type": "stream",
     "text": [
      "{'C1': 0.4, 'C2': 0.3, 'C3': 0.2, 'C4': 0.1}\n"
     ]
    }
   ],
   "source": [
    "\"\"\"\n",
    "    Langkah selanjutnya adalah perbaikan bobot terhadap bobot dari kriteria awal yaitu [4, 3, 2, 1]\n",
    "    dimana setiap bobot awal dibagi dengan total dari semua bobot awal \n",
    "\"\"\"\n",
    "total = 0\n",
    "for key, value in dict_criteria.items():\n",
    "    total += value\n",
    "\n",
    "criteria = [ (key, (value/total)) for key, value in dict_criteria.items() ]\n",
    "criteria = dict(criteria)\n",
    "\n",
    "print(criteria)"
   ]
  },
  {
   "cell_type": "code",
   "execution_count": 8,
   "metadata": {},
   "outputs": [],
   "source": [
    "# criteria['C2'] = criteria['C2']*-1"
   ]
  },
  {
   "cell_type": "markdown",
   "metadata": {},
   "source": [
    "# Hitung Vektor S"
   ]
  },
  {
   "cell_type": "code",
   "execution_count": 10,
   "metadata": {},
   "outputs": [],
   "source": [
    "\"\"\"\n",
    "    Langkah selanjutnya mencari nilai dari vektor S.\n",
    "    Vektor S adalah hasil kali dari bobot dari masing-masing kriteria yang dipangkatkan dengan masing-masing bobot perbaikan\n",
    "\"\"\"\n",
    "def vektorS(mtrx, cry):\n",
    "    val_cry = cry.values()\n",
    "    val = list(val_cry)\n",
    "    samua = []\n",
    "    for i in range(len(mtrx)):\n",
    "        alternatif = []\n",
    "        for j in range(len(mtrx[i])):\n",
    "            alternatif.append(mtrx[i][j]**(val[j]))\n",
    "        samua.append(alternatif)\n",
    "    return samua"
   ]
  },
  {
   "cell_type": "code",
   "execution_count": 11,
   "metadata": {},
   "outputs": [
    {
     "data": {
      "text/html": [
       "<div>\n",
       "<style scoped>\n",
       "    .dataframe tbody tr th:only-of-type {\n",
       "        vertical-align: middle;\n",
       "    }\n",
       "\n",
       "    .dataframe tbody tr th {\n",
       "        vertical-align: top;\n",
       "    }\n",
       "\n",
       "    .dataframe thead th {\n",
       "        text-align: right;\n",
       "    }\n",
       "</style>\n",
       "<table border=\"1\" class=\"dataframe\">\n",
       "  <thead>\n",
       "    <tr style=\"text-align: right;\">\n",
       "      <th></th>\n",
       "      <th>C1 Vektor S</th>\n",
       "      <th>C2 Vektor S</th>\n",
       "      <th>C3 Vektor S</th>\n",
       "      <th>C4 Vektor S</th>\n",
       "    </tr>\n",
       "  </thead>\n",
       "  <tbody>\n",
       "    <tr>\n",
       "      <th>0</th>\n",
       "      <td>1.741101</td>\n",
       "      <td>1.390389</td>\n",
       "      <td>1.245731</td>\n",
       "      <td>1.116123</td>\n",
       "    </tr>\n",
       "    <tr>\n",
       "      <th>1</th>\n",
       "      <td>1.551846</td>\n",
       "      <td>1.390389</td>\n",
       "      <td>1.148698</td>\n",
       "      <td>1.116123</td>\n",
       "    </tr>\n",
       "    <tr>\n",
       "      <th>2</th>\n",
       "      <td>1.551846</td>\n",
       "      <td>1.515717</td>\n",
       "      <td>1.148698</td>\n",
       "      <td>1.116123</td>\n",
       "    </tr>\n",
       "    <tr>\n",
       "      <th>3</th>\n",
       "      <td>1.551846</td>\n",
       "      <td>1.390389</td>\n",
       "      <td>1.245731</td>\n",
       "      <td>1.071773</td>\n",
       "    </tr>\n",
       "    <tr>\n",
       "      <th>4</th>\n",
       "      <td>1.319508</td>\n",
       "      <td>1.515717</td>\n",
       "      <td>1.245731</td>\n",
       "      <td>1.000000</td>\n",
       "    </tr>\n",
       "    <tr>\n",
       "      <th>5</th>\n",
       "      <td>1.551846</td>\n",
       "      <td>1.000000</td>\n",
       "      <td>1.000000</td>\n",
       "      <td>1.000000</td>\n",
       "    </tr>\n",
       "    <tr>\n",
       "      <th>6</th>\n",
       "      <td>1.319508</td>\n",
       "      <td>1.000000</td>\n",
       "      <td>1.245731</td>\n",
       "      <td>1.071773</td>\n",
       "    </tr>\n",
       "    <tr>\n",
       "      <th>7</th>\n",
       "      <td>1.551846</td>\n",
       "      <td>1.390389</td>\n",
       "      <td>1.245731</td>\n",
       "      <td>1.000000</td>\n",
       "    </tr>\n",
       "  </tbody>\n",
       "</table>\n",
       "</div>"
      ],
      "text/plain": [
       "   C1 Vektor S  C2 Vektor S  C3 Vektor S  C4 Vektor S\n",
       "0     1.741101     1.390389     1.245731     1.116123\n",
       "1     1.551846     1.390389     1.148698     1.116123\n",
       "2     1.551846     1.515717     1.148698     1.116123\n",
       "3     1.551846     1.390389     1.245731     1.071773\n",
       "4     1.319508     1.515717     1.245731     1.000000\n",
       "5     1.551846     1.000000     1.000000     1.000000\n",
       "6     1.319508     1.000000     1.245731     1.071773\n",
       "7     1.551846     1.390389     1.245731     1.000000"
      ]
     },
     "execution_count": 11,
     "metadata": {},
     "output_type": "execute_result"
    }
   ],
   "source": [
    "vektorS = vektorS(bobot_alternatif, criteria)\n",
    "pd.DataFrame(vektorS ,columns = ['C1 Vektor S','C2 Vektor S','C3 Vektor S','C4 Vektor S'])"
   ]
  },
  {
   "cell_type": "code",
   "execution_count": 13,
   "metadata": {},
   "outputs": [],
   "source": [
    "def totalVektorS(valueVektorS):\n",
    "    index = valueVektorS\n",
    "    total =[]\n",
    "    for i in range(len(index)):\n",
    "        hasil = 1\n",
    "        for j in index[i]:\n",
    "            hasil *= j\n",
    "        total.append(hasil)\n",
    "    return total"
   ]
  },
  {
   "cell_type": "code",
   "execution_count": 14,
   "metadata": {},
   "outputs": [],
   "source": [
    "totalVektorS = totalVektorS(vektorS)"
   ]
  },
  {
   "cell_type": "code",
   "execution_count": 15,
   "metadata": {},
   "outputs": [
    {
     "data": {
      "text/html": [
       "<div>\n",
       "<style scoped>\n",
       "    .dataframe tbody tr th:only-of-type {\n",
       "        vertical-align: middle;\n",
       "    }\n",
       "\n",
       "    .dataframe tbody tr th {\n",
       "        vertical-align: top;\n",
       "    }\n",
       "\n",
       "    .dataframe thead th {\n",
       "        text-align: right;\n",
       "    }\n",
       "</style>\n",
       "<table border=\"1\" class=\"dataframe\">\n",
       "  <thead>\n",
       "    <tr style=\"text-align: right;\">\n",
       "      <th></th>\n",
       "      <th>Nilai Total Vektor S</th>\n",
       "    </tr>\n",
       "  </thead>\n",
       "  <tbody>\n",
       "    <tr>\n",
       "      <th>0</th>\n",
       "      <td>3.365865</td>\n",
       "    </tr>\n",
       "    <tr>\n",
       "      <th>1</th>\n",
       "      <td>2.766324</td>\n",
       "    </tr>\n",
       "    <tr>\n",
       "      <th>2</th>\n",
       "      <td>3.015676</td>\n",
       "    </tr>\n",
       "    <tr>\n",
       "      <th>3</th>\n",
       "      <td>2.880794</td>\n",
       "    </tr>\n",
       "    <tr>\n",
       "      <th>4</th>\n",
       "      <td>2.491462</td>\n",
       "    </tr>\n",
       "    <tr>\n",
       "      <th>5</th>\n",
       "      <td>1.551846</td>\n",
       "    </tr>\n",
       "    <tr>\n",
       "      <th>6</th>\n",
       "      <td>1.761730</td>\n",
       "    </tr>\n",
       "    <tr>\n",
       "      <th>7</th>\n",
       "      <td>2.687875</td>\n",
       "    </tr>\n",
       "  </tbody>\n",
       "</table>\n",
       "</div>"
      ],
      "text/plain": [
       "   Nilai Total Vektor S\n",
       "0              3.365865\n",
       "1              2.766324\n",
       "2              3.015676\n",
       "3              2.880794\n",
       "4              2.491462\n",
       "5              1.551846\n",
       "6              1.761730\n",
       "7              2.687875"
      ]
     },
     "execution_count": 15,
     "metadata": {},
     "output_type": "execute_result"
    }
   ],
   "source": [
    "pd.DataFrame(totalVektorS ,columns = ['Nilai Total Vektor S'])"
   ]
  },
  {
   "cell_type": "code",
   "execution_count": 16,
   "metadata": {},
   "outputs": [
    {
     "name": "stdout",
     "output_type": "stream",
     "text": [
      "20.521570708074346\n"
     ]
    }
   ],
   "source": [
    "print(sum(totalVektorS))"
   ]
  },
  {
   "cell_type": "markdown",
   "metadata": {},
   "source": [
    "# Menentukan Preverensi"
   ]
  },
  {
   "cell_type": "code",
   "execution_count": 17,
   "metadata": {},
   "outputs": [],
   "source": [
    "\"\"\"\n",
    "    Langkah selanjutnya menentukan preveerensi.\n",
    "    Dimana nilai dari preverensi merupakan hasil pembagian antara masing-masing nilai vektor S\n",
    "    dengan total jumlah dari nilai vektor s\n",
    "\"\"\"\n",
    "def preverensi(prev):\n",
    "    alt =[]\n",
    "    for value in totalVektorS:\n",
    "        vi = value/sum(totalVektorS)\n",
    "        alt.append(vi)\n",
    "    return alt"
   ]
  },
  {
   "cell_type": "code",
   "execution_count": 18,
   "metadata": {},
   "outputs": [
    {
     "data": {
      "text/html": [
       "<div>\n",
       "<style scoped>\n",
       "    .dataframe tbody tr th:only-of-type {\n",
       "        vertical-align: middle;\n",
       "    }\n",
       "\n",
       "    .dataframe tbody tr th {\n",
       "        vertical-align: top;\n",
       "    }\n",
       "\n",
       "    .dataframe thead th {\n",
       "        text-align: right;\n",
       "    }\n",
       "</style>\n",
       "<table border=\"1\" class=\"dataframe\">\n",
       "  <thead>\n",
       "    <tr style=\"text-align: right;\">\n",
       "      <th></th>\n",
       "      <th>Preverensi Vi</th>\n",
       "    </tr>\n",
       "  </thead>\n",
       "  <tbody>\n",
       "    <tr>\n",
       "      <th>0</th>\n",
       "      <td>0.164016</td>\n",
       "    </tr>\n",
       "    <tr>\n",
       "      <th>1</th>\n",
       "      <td>0.134801</td>\n",
       "    </tr>\n",
       "    <tr>\n",
       "      <th>2</th>\n",
       "      <td>0.146952</td>\n",
       "    </tr>\n",
       "    <tr>\n",
       "      <th>3</th>\n",
       "      <td>0.140379</td>\n",
       "    </tr>\n",
       "    <tr>\n",
       "      <th>4</th>\n",
       "      <td>0.121407</td>\n",
       "    </tr>\n",
       "    <tr>\n",
       "      <th>5</th>\n",
       "      <td>0.075620</td>\n",
       "    </tr>\n",
       "    <tr>\n",
       "      <th>6</th>\n",
       "      <td>0.085848</td>\n",
       "    </tr>\n",
       "    <tr>\n",
       "      <th>7</th>\n",
       "      <td>0.130978</td>\n",
       "    </tr>\n",
       "  </tbody>\n",
       "</table>\n",
       "</div>"
      ],
      "text/plain": [
       "   Preverensi Vi\n",
       "0       0.164016\n",
       "1       0.134801\n",
       "2       0.146952\n",
       "3       0.140379\n",
       "4       0.121407\n",
       "5       0.075620\n",
       "6       0.085848\n",
       "7       0.130978"
      ]
     },
     "execution_count": 18,
     "metadata": {},
     "output_type": "execute_result"
    }
   ],
   "source": [
    "# alt_select(totalVektorS)\n",
    "pd.DataFrame(list(preverensi(totalVektorS)),columns = ['Preverensi Vi'])"
   ]
  },
  {
   "cell_type": "markdown",
   "metadata": {},
   "source": [
    "# Perengkingan"
   ]
  },
  {
   "cell_type": "code",
   "execution_count": 19,
   "metadata": {},
   "outputs": [
    {
     "data": {
      "text/plain": [
       "{'Rambutan Binjai': 0.16401597539579543,\n",
       " 'Rambutan Rapiah': 0.13480077981344554,\n",
       " 'Rambutan Lebak Bulus': 0.14695150070489724,\n",
       " 'Rambutan Narmada': 0.14037880157210322,\n",
       " 'Rambutan Sinyonya': 0.12140697779292071,\n",
       " 'Rambutan Garuda': 0.0756202142609277,\n",
       " 'Rambutan Kapulasan': 0.08584769728073884,\n",
       " 'Rambutan Cimacan': 0.13097805317917136}"
      ]
     },
     "execution_count": 19,
     "metadata": {},
     "output_type": "execute_result"
    }
   ],
   "source": [
    "\"\"\"\n",
    "    Langkah terakhir perengkingan.\n",
    "    Dimana pada proses ini, nilai preverensi terbesar adalah merupakan alternatif terbaik.\n",
    "\"\"\"\n",
    "data_Alt = dict(zip(alternatif, preverensi(totalVektorS)))\n",
    "data_Alt"
   ]
  },
  {
   "cell_type": "code",
   "execution_count": 20,
   "metadata": {},
   "outputs": [
    {
     "data": {
      "text/html": [
       "<div>\n",
       "<style scoped>\n",
       "    .dataframe tbody tr th:only-of-type {\n",
       "        vertical-align: middle;\n",
       "    }\n",
       "\n",
       "    .dataframe tbody tr th {\n",
       "        vertical-align: top;\n",
       "    }\n",
       "\n",
       "    .dataframe thead th {\n",
       "        text-align: right;\n",
       "    }\n",
       "</style>\n",
       "<table border=\"1\" class=\"dataframe\">\n",
       "  <thead>\n",
       "    <tr style=\"text-align: right;\">\n",
       "      <th></th>\n",
       "      <th>Alternatif</th>\n",
       "      <th>Nilai</th>\n",
       "    </tr>\n",
       "  </thead>\n",
       "  <tbody>\n",
       "    <tr>\n",
       "      <th>0</th>\n",
       "      <td>Rambutan Binjai</td>\n",
       "      <td>0.164016</td>\n",
       "    </tr>\n",
       "    <tr>\n",
       "      <th>4</th>\n",
       "      <td>Rambutan Lebak Bulus</td>\n",
       "      <td>0.146952</td>\n",
       "    </tr>\n",
       "    <tr>\n",
       "      <th>5</th>\n",
       "      <td>Rambutan Narmada</td>\n",
       "      <td>0.140379</td>\n",
       "    </tr>\n",
       "    <tr>\n",
       "      <th>6</th>\n",
       "      <td>Rambutan Rapiah</td>\n",
       "      <td>0.134801</td>\n",
       "    </tr>\n",
       "    <tr>\n",
       "      <th>1</th>\n",
       "      <td>Rambutan Cimacan</td>\n",
       "      <td>0.130978</td>\n",
       "    </tr>\n",
       "    <tr>\n",
       "      <th>7</th>\n",
       "      <td>Rambutan Sinyonya</td>\n",
       "      <td>0.121407</td>\n",
       "    </tr>\n",
       "    <tr>\n",
       "      <th>3</th>\n",
       "      <td>Rambutan Kapulasan</td>\n",
       "      <td>0.085848</td>\n",
       "    </tr>\n",
       "    <tr>\n",
       "      <th>2</th>\n",
       "      <td>Rambutan Garuda</td>\n",
       "      <td>0.075620</td>\n",
       "    </tr>\n",
       "  </tbody>\n",
       "</table>\n",
       "</div>"
      ],
      "text/plain": [
       "             Alternatif     Nilai\n",
       "0       Rambutan Binjai  0.164016\n",
       "4  Rambutan Lebak Bulus  0.146952\n",
       "5      Rambutan Narmada  0.140379\n",
       "6       Rambutan Rapiah  0.134801\n",
       "1      Rambutan Cimacan  0.130978\n",
       "7     Rambutan Sinyonya  0.121407\n",
       "3    Rambutan Kapulasan  0.085848\n",
       "2       Rambutan Garuda  0.075620"
      ]
     },
     "execution_count": 20,
     "metadata": {},
     "output_type": "execute_result"
    }
   ],
   "source": [
    "rang = pd.DataFrame(sorted(list(data_Alt.items())),columns = ['Alternatif','Nilai'] )\n",
    "rang.sort_values(by=['Nilai'], ascending=False)"
   ]
  },
  {
   "cell_type": "code",
   "execution_count": 21,
   "metadata": {},
   "outputs": [
    {
     "data": {
      "image/png": "[encoded data removed]",
      "text/plain": [
       "<Figure size 1152x432 with 1 Axes>"
      ]
     },
     "metadata": {
      "needs_background": "light"
     },
     "output_type": "display_data"
    }
   ],
   "source": [
    "ax = plt.subplots(figsize = (16, 6))\n",
    "plt.bar(alternatif, preverensi(totalVektorS), width = 0.4, )\n",
    "plt.show()"
   ]
  },
  {
   "cell_type": "code",
   "execution_count": null,
   "metadata": {},
   "outputs": [],
   "source": []
  }
 ],
 "metadata": {
  "kernelspec": {
   "display_name": "Python 3",
   "language": "python",
   "name": "python3"
  },
  "language_info": {
   "codemirror_mode": {
    "name": "ipython",
    "version": 3
   },
   "file_extension": ".py",
   "mimetype": "text/x-python",
   "name": "python",
   "nbconvert_exporter": "python",
   "pygments_lexer": "ipython3",
   "version": "3.6.13"
  }
 },
 "nbformat": 4,
 "nbformat_minor": 4
}
