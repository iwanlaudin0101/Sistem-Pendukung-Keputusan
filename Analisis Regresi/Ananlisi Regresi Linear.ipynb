{
 "cells": [
  {
   "cell_type": "markdown",
   "metadata": {},
   "source": [
    "# Analisis Regeresi Linear Sederhana"
   ]
  },
  {
   "cell_type": "code",
   "execution_count": 13,
   "metadata": {},
   "outputs": [
    {
     "name": "stdout",
     "output_type": "stream",
     "text": [
      "{'Kualitas Layanan': [54, 50, 56, 53, 56], 'Penjualan Barang': [167, 155, 166, 159, 160]}\n"
     ]
    }
   ],
   "source": [
    "data_set = {\"Kualitas Layanan\":[54,50,56,53,56], \"Penjualan Barang\":[167,155,166,159,160]}\n",
    "print(data_set)"
   ]
  },
  {
   "cell_type": "code",
   "execution_count": 14,
   "metadata": {},
   "outputs": [],
   "source": [
    "sigma_xi = sum(data_set[\"Kualitas Layanan\"])\n",
    "sigma_yi = sum(data_set[\"Penjualan Barang\"])\n",
    "sigma_xi2 = sum([(data_set[\"Kualitas Layanan\"][i])**2 for i in range(len(data_set[\"Kualitas Layanan\"]))])\n",
    "sigma_xi_yi = sum([data_set[\"Kualitas Layanan\"][i]*data_set[\"Penjualan Barang\"][i] for i in range(len(data_set[\"Kualitas Layanan\"]))])"
   ]
  },
  {
   "cell_type": "code",
   "execution_count": 22,
   "metadata": {},
   "outputs": [
    {
     "data": {
      "text/plain": [
       "269"
      ]
     },
     "execution_count": 22,
     "metadata": {},
     "output_type": "execute_result"
    }
   ],
   "source": [
    "def sigma(x):\n",
    "    total = 0\n",
    "    for i in range(len(x)):\n",
    "        total+=x[i]\n",
    "        \n",
    "    return total\n",
    "\n",
    "sigma(data_set[\"Kualitas Layanan\"])\n",
    "        "
   ]
  },
  {
   "cell_type": "code",
   "execution_count": 16,
   "metadata": {},
   "outputs": [
    {
     "name": "stdout",
     "output_type": "stream",
     "text": [
      "43451\n"
     ]
    }
   ],
   "source": [
    "_all = []\n",
    "for i in range(len(data_set[\"Kualitas Layanan\"])):\n",
    "    _all.append(data_set[\"Kualitas Layanan\"][i]*data_set[\"Penjualan Barang\"][i])\n",
    "    \n",
    "print(sum(_all))\n",
    "        "
   ]
  },
  {
   "cell_type": "code",
   "execution_count": 17,
   "metadata": {},
   "outputs": [
    {
     "name": "stdout",
     "output_type": "stream",
     "text": [
      "14497\n"
     ]
    }
   ],
   "source": [
    "_all = []\n",
    "for i in range(len(data_set[\"Kualitas Layanan\"])):\n",
    "    _all.append(data_set[\"Kualitas Layanan\"][i]**2)\n",
    "    \n",
    "print(sum(_all))"
   ]
  },
  {
   "cell_type": "code",
   "execution_count": 18,
   "metadata": {},
   "outputs": [
    {
     "name": "stdout",
     "output_type": "stream",
     "text": [
      "Sigma xi = 269, sigma yi = 807, sigma xi^2 = 14497, sigma xi yi = 43451\n"
     ]
    }
   ],
   "source": [
    "print(f\"Sigma xi = {sigma_xi}, sigma yi = {sigma_yi}, sigma xi^2 = {sigma_xi2}, sigma xi yi = {sigma_xi_yi}\")"
   ]
  },
  {
   "cell_type": "code",
   "execution_count": 19,
   "metadata": {},
   "outputs": [
    {
     "name": "stdout",
     "output_type": "stream",
     "text": [
      "Nilai A : 86.7741935483871, Nilai B : 1.3870967741935485\n"
     ]
    }
   ],
   "source": [
    "a = ((sigma_yi*sigma_xi2)-(sigma_xi*sigma_xi_yi))/((len(data_set[\"Kualitas Layanan\"])*sigma_xi2)-(sigma_xi**2))\n",
    "b = ((len(data_set[\"Kualitas Layanan\"])*sigma_xi_yi)-(sigma_xi*sigma_yi))/((len(data_set[\"Kualitas Layanan\"])*sigma_xi2)-(sigma_xi**2))\n",
    "print(f\"Nilai A : {a}, Nilai B : {b}\")"
   ]
  },
  {
   "cell_type": "code",
   "execution_count": 21,
   "metadata": {},
   "outputs": [
    {
     "name": "stdout",
     "output_type": "stream",
     "text": [
      "Masukan Nilai Kualitas Layanan : dsfgherjg\n",
      "Oops!  That was no valid number.  Try again...\n",
      "Masukan Nilai Kualitas Layanan : dsfeg\n",
      "Oops!  That was no valid number.  Try again...\n",
      "Masukan Nilai Kualitas Layanan : 56\n"
     ]
    },
    {
     "data": {
      "text/plain": [
       "164.45161290322582"
      ]
     },
     "execution_count": 21,
     "metadata": {},
     "output_type": "execute_result"
    }
   ],
   "source": [
    "\"\"\"\n",
    "Misal :\n",
    "        Kualitas Layanan = 55\n",
    "\"\"\"\n",
    "while True:\n",
    "    try:\n",
    "        kualitas_layanan = int(input(\"Masukan Nilai Kualitas Layanan : \"))\n",
    "        break\n",
    "    except ValueError:\n",
    "        print(\"Oops!  That was no valid number.  Try again...\")\n",
    "\n",
    "prediksi = (a + (b*kualitas_layanan))\n",
    "prediksi"
   ]
  }
 ],
 "metadata": {
  "kernelspec": {
   "display_name": "Python 3",
   "language": "python",
   "name": "python3"
  },
  "language_info": {
   "codemirror_mode": {
    "name": "ipython",
    "version": 3
   },
   "file_extension": ".py",
   "mimetype": "text/x-python",
   "name": "python",
   "nbconvert_exporter": "python",
   "pygments_lexer": "ipython3",
   "version": "3.8.3"
  }
 },
 "nbformat": 4,
 "nbformat_minor": 4
}
