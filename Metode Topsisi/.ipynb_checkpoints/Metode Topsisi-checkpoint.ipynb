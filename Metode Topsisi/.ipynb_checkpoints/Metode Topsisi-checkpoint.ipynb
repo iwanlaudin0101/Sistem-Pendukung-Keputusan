{
 "cells": [
  {
   "cell_type": "markdown",
   "metadata": {},
   "source": [
    "# Perhitungan Metode Topsis Dengan Python"
   ]
  },
  {
   "cell_type": "markdown",
   "metadata": {},
   "source": [
    "# Let's Start"
   ]
  },
  {
   "cell_type": "code",
   "execution_count": 4,
   "metadata": {},
   "outputs": [],
   "source": [
    "\"\"\"\n",
    "KENAPA HARUS ADA PACKAGE PANDAS\n",
    "    > Mencoba mengvisualisasikan data frame dengan rapi\n",
    "    > Agar enak dipandang (biar nda bosan pas ngoding)\n",
    "\n",
    "\"\"\"\n",
    "import pandas as pd\n",
    "\n",
    "\"\"\"\n",
    "KENAPA HARUS ADA PACKAGE MATPLOTLIB\n",
    "    > Visualisasi dalam bentuk diagram\n",
    "    > Agar enak dipandang (biar nda bosan pas ngoding)\n",
    "\n",
    "\"\"\"\n",
    "import matplotlib.pyplot as plt"
   ]
  },
  {
   "cell_type": "markdown",
   "metadata": {},
   "source": [
    "# Inisialisasi alternatif dan kriteria"
   ]
  },
  {
   "cell_type": "code",
   "execution_count": 5,
   "metadata": {},
   "outputs": [],
   "source": [
    "\"\"\"\n",
    "    Data alternatif pilihan dari masing-masing rambutan yang akan di seleksi.\n",
    "    Maaf datanya dibuat dalam list manual tanpa menggunakan data csv\n",
    "\"\"\"\n",
    "alternatif = ['A1', 'A2', 'A3']\n",
    "\n",
    "# visualisasi menggunakan pandas DataFrame\n",
    "alt = pd.DataFrame(alternatif,columns = ['Alternatif Rambutan'])"
   ]
  },
  {
   "cell_type": "code",
   "execution_count": 6,
   "metadata": {},
   "outputs": [],
   "source": [
    "\"\"\"\n",
    "    Bobot dari masing-masing alternatif yang tersedia, jadi bobotnya ini di tentukan berdasarkan hasil penelitian.\n",
    "    Maaf datanya dibuat dalam list manual tanpa menggunakan data csv\n",
    "\"\"\"\n",
    "bobotalternatif = [\n",
    "    [5, 2, 1, 4, 1],\n",
    "    [5, 1, 1, 3, 1],\n",
    "    [5, 3, 1, 4, 1]\n",
    "]\n",
    "\n",
    "# visualisasi menggunakan pandas DataFrame\n",
    "mat = pd.DataFrame(bobotalternatif ,columns = ['Bobot C1','Bobot C2','Bobot C3','Bobot C4', 'Bobot C4'])"
   ]
  },
  {
   "cell_type": "code",
   "execution_count": 7,
   "metadata": {},
   "outputs": [
    {
     "data": {
      "text/html": [
       "<div>\n",
       "<style scoped>\n",
       "    .dataframe tbody tr th:only-of-type {\n",
       "        vertical-align: middle;\n",
       "    }\n",
       "\n",
       "    .dataframe tbody tr th {\n",
       "        vertical-align: top;\n",
       "    }\n",
       "\n",
       "    .dataframe thead th {\n",
       "        text-align: right;\n",
       "    }\n",
       "</style>\n",
       "<table border=\"1\" class=\"dataframe\">\n",
       "  <thead>\n",
       "    <tr style=\"text-align: right;\">\n",
       "      <th></th>\n",
       "      <th>Alternatif Rambutan</th>\n",
       "      <th>Bobot C1</th>\n",
       "      <th>Bobot C2</th>\n",
       "      <th>Bobot C3</th>\n",
       "      <th>Bobot C4</th>\n",
       "      <th>Bobot C4</th>\n",
       "    </tr>\n",
       "  </thead>\n",
       "  <tbody>\n",
       "    <tr>\n",
       "      <th>0</th>\n",
       "      <td>A1</td>\n",
       "      <td>5</td>\n",
       "      <td>2</td>\n",
       "      <td>1</td>\n",
       "      <td>4</td>\n",
       "      <td>1</td>\n",
       "    </tr>\n",
       "    <tr>\n",
       "      <th>1</th>\n",
       "      <td>A2</td>\n",
       "      <td>5</td>\n",
       "      <td>1</td>\n",
       "      <td>1</td>\n",
       "      <td>3</td>\n",
       "      <td>1</td>\n",
       "    </tr>\n",
       "    <tr>\n",
       "      <th>2</th>\n",
       "      <td>A3</td>\n",
       "      <td>5</td>\n",
       "      <td>3</td>\n",
       "      <td>1</td>\n",
       "      <td>4</td>\n",
       "      <td>1</td>\n",
       "    </tr>\n",
       "  </tbody>\n",
       "</table>\n",
       "</div>"
      ],
      "text/plain": [
       "  Alternatif Rambutan  Bobot C1  Bobot C2  Bobot C3  Bobot C4  Bobot C4\n",
       "0                  A1         5         2         1         4         1\n",
       "1                  A2         5         1         1         3         1\n",
       "2                  A3         5         3         1         4         1"
      ]
     },
     "execution_count": 7,
     "metadata": {},
     "output_type": "execute_result"
    }
   ],
   "source": [
    "\"\"\"Menggabungkan kedua data hasil visualisasi menggunakan pandas DataFrame\"\"\"\n",
    "pd.merge(alt, mat, left_index=True , right_index=True)"
   ]
  },
  {
   "cell_type": "markdown",
   "metadata": {},
   "source": [
    "# Normalized decision matrix"
   ]
  },
  {
   "cell_type": "code",
   "execution_count": 8,
   "metadata": {},
   "outputs": [],
   "source": [
    "\"\"\"\n",
    "    Untuk melakukan normalisasi kita harus mengkuadratkan setiap elemen matriks dari tiap nilai alternatif kriteria\n",
    "    PARAMETER :\n",
    "                > matrix = bobotalternatif\n",
    "\"\"\"\n",
    "def MatrixKeputusan(matrix):\n",
    "    all = []\n",
    "    for i in range(len(matrix)):\n",
    "        bobot = []\n",
    "        for j in matrix[i]:\n",
    "            x = j**2\n",
    "            bobot.append(x)\n",
    "        all.append(bobot)\n",
    "    return all"
   ]
  },
  {
   "cell_type": "code",
   "execution_count": 9,
   "metadata": {},
   "outputs": [],
   "source": [
    "matrixkeputusan = MatrixKeputusan(bobotalternatif)"
   ]
  },
  {
   "cell_type": "code",
   "execution_count": 10,
   "metadata": {},
   "outputs": [],
   "source": [
    "\"\"\"\n",
    "    Menentukan nilai total hasil kuadrat dari setiap kriteria.\n",
    "    PARAMETER :\n",
    "                > matrix = \n",
    "\"\"\"\n",
    "def TotMatrixKeputusan(matrix):\n",
    "    total = []\n",
    "    for i in range(len(matrix[0])):\n",
    "        tot = 0\n",
    "        for j in range(len(matrix)):        \n",
    "            tot += matrix[j][i]\n",
    "        total.append(tot**(1/2))\n",
    "    return total"
   ]
  },
  {
   "cell_type": "code",
   "execution_count": 11,
   "metadata": {},
   "outputs": [
    {
     "data": {
      "text/plain": [
       "[8.660254037844387,\n",
       " 3.7416573867739413,\n",
       " 1.7320508075688772,\n",
       " 6.4031242374328485,\n",
       " 1.7320508075688772]"
      ]
     },
     "execution_count": 11,
     "metadata": {},
     "output_type": "execute_result"
    }
   ],
   "source": [
    "totmatrixkeputusan = TotMatrixKeputusan(matrixkeputusan)\n",
    "totmatrixkeputusan"
   ]
  },
  {
   "cell_type": "code",
   "execution_count": 12,
   "metadata": {},
   "outputs": [],
   "source": [
    "\"\"\"\n",
    "    Menentukan matrix ternormalisasi dengan cara membagi setiap elemen matriks yang suda dikuadratkan\n",
    "    dengan akar (sqrt) dari total baris yang bersesuaian dari setiap kriteria.\n",
    "    PARAMETER :\n",
    "                > matrix1 = bobot dari alaternatif\n",
    "                > matrix2 = total matrix keputusan\n",
    "\"\"\"\n",
    "def MatrixTernormalisasi(matrix1, matrix2):\n",
    "    total = matrix2\n",
    "    all = []\n",
    "    for i in range(len(matrix1)):\n",
    "        sub = []\n",
    "        k = 0\n",
    "        for j in matrix1[i]:\n",
    "            x = j/total[k]\n",
    "            sub.append(x)\n",
    "            k+=1\n",
    "        all.append(sub)\n",
    "    return all"
   ]
  },
  {
   "cell_type": "code",
   "execution_count": 13,
   "metadata": {},
   "outputs": [
    {
     "data": {
      "text/plain": [
       "[[0.5773502691896257,\n",
       "  0.5345224838248488,\n",
       "  0.5773502691896258,\n",
       "  0.6246950475544243,\n",
       "  0.5773502691896258],\n",
       " [0.5773502691896257,\n",
       "  0.2672612419124244,\n",
       "  0.5773502691896258,\n",
       "  0.4685212856658182,\n",
       "  0.5773502691896258],\n",
       " [0.5773502691896257,\n",
       "  0.8017837257372732,\n",
       "  0.5773502691896258,\n",
       "  0.6246950475544243,\n",
       "  0.5773502691896258]]"
      ]
     },
     "execution_count": 13,
     "metadata": {},
     "output_type": "execute_result"
    }
   ],
   "source": [
    "matrixternormalisasi = MatrixTernormalisasi(bobotalternatif, totmatrixkeputusan)\n",
    "matrixternormalisasi"
   ]
  },
  {
   "cell_type": "markdown",
   "metadata": {},
   "source": [
    "#   Normalisasi Terbobot"
   ]
  },
  {
   "cell_type": "code",
   "execution_count": 14,
   "metadata": {},
   "outputs": [],
   "source": [
    "\"\"\"\n",
    "    Normalisasi terbobot didapat dari perkalian matriks normalisasi dengan bobot kriteria.\n",
    "    PARAMETER :\n",
    "                > matrix = nilai dari setiap matrix yang ternormalisasi\n",
    "                > bobot = nilai bobot dari masing-masing kriteria\n",
    "\"\"\"\n",
    "def TermTerbobot(matrix, bobot):\n",
    "    all = []\n",
    "    for i in range(len(matrix)):\n",
    "        sub = []\n",
    "        k = 0\n",
    "        for j in matrix[i]:\n",
    "            sub.append(j*bobot[k])\n",
    "            k+=1\n",
    "        all.append(sub)\n",
    "    return all"
   ]
  },
  {
   "cell_type": "code",
   "execution_count": 15,
   "metadata": {},
   "outputs": [],
   "source": [
    "bobot = [5, 3, 4, 2, 5]"
   ]
  },
  {
   "cell_type": "code",
   "execution_count": 16,
   "metadata": {},
   "outputs": [
    {
     "data": {
      "text/plain": [
       "[[2.8867513459481287,\n",
       "  1.6035674514745464,\n",
       "  2.3094010767585034,\n",
       "  1.2493900951088486,\n",
       "  2.886751345948129],\n",
       " [2.8867513459481287,\n",
       "  0.8017837257372732,\n",
       "  2.3094010767585034,\n",
       "  0.9370425713316364,\n",
       "  2.886751345948129],\n",
       " [2.8867513459481287,\n",
       "  2.4053511772118195,\n",
       "  2.3094010767585034,\n",
       "  1.2493900951088486,\n",
       "  2.886751345948129]]"
      ]
     },
     "execution_count": 16,
     "metadata": {},
     "output_type": "execute_result"
    }
   ],
   "source": [
    "termterbobot = TermTerbobot(matrixternormalisasi, bobot)\n",
    "termterbobot"
   ]
  },
  {
   "cell_type": "markdown",
   "metadata": {},
   "source": [
    "# Matriks Sulusi Ideal"
   ]
  },
  {
   "cell_type": "code",
   "execution_count": 17,
   "metadata": {},
   "outputs": [],
   "source": [
    "\"\"\"\n",
    "    Matriks sulusi ideal didapat berdasarkan normalisasi terbobot dan atribut kriteria (cost atau benefit). \n",
    "    Solusi ideal positif diambil nilai maksimal dari normalisasi terbobot jika atribut kriteria benefit, \n",
    "    jika cost diambil nilai minimalnya. \n",
    "    Sebaliknya solusi ideal positif diambil nilai minimal dari normalisasi terbobot jika atribut kriteria benefit, \n",
    "    jika cost diambil maksimalnya\n",
    "    \n",
    "    PARAMETER : \n",
    "                > matrix = nilai dari matrix yang ternormalisasi terbobot\n",
    "\"\"\"\n",
    "def SolusiIdealPositif(matrix):\n",
    "    all = []\n",
    "    for i in range(len(matrix[0])):\n",
    "        sub = []\n",
    "        for j in range(len(matrix)):\n",
    "            sub.append(matrix[j][i])\n",
    "        all.append(sub)\n",
    "    sub1 =[]\n",
    "    for k in range(len(all)):\n",
    "        if (all[k]==all[0] or all[k]==all[2]):\n",
    "            val = min(all[k])\n",
    "        else:\n",
    "            val = max(all[k])\n",
    "        sub1.append(val)\n",
    "    return sub1"
   ]
  },
  {
   "cell_type": "code",
   "execution_count": 18,
   "metadata": {},
   "outputs": [
    {
     "data": {
      "text/plain": [
       "[2.8867513459481287,\n",
       " 2.4053511772118195,\n",
       " 2.3094010767585034,\n",
       " 1.2493900951088486,\n",
       " 2.886751345948129]"
      ]
     },
     "execution_count": 18,
     "metadata": {},
     "output_type": "execute_result"
    }
   ],
   "source": [
    "solusiidealpositif = SolusiIdealPositif(termterbobot)\n",
    "solusiidealpositif"
   ]
  },
  {
   "cell_type": "code",
   "execution_count": 19,
   "metadata": {},
   "outputs": [],
   "source": [
    "\"\"\"\n",
    "    PARAMETER : \n",
    "                > matrix = nilai dari matrix yang ternormalisasi terbobot\n",
    "\"\"\"\n",
    "def SolusiIdealNegatif(matrix):\n",
    "    all = []\n",
    "    for i in range(len(matrix[0])):\n",
    "        sub = []\n",
    "        for j in range(len(matrix)):\n",
    "            sub.append(matrix[j][i])\n",
    "        all.append(sub)\n",
    "    sub1 =[]\n",
    "    for k in range(len(all)):\n",
    "        if (all[k]==all[0] or all[k]==all[2]):\n",
    "            val = max(all[k])\n",
    "        else:\n",
    "            val = min(all[k])\n",
    "        sub1.append(val)\n",
    "    return sub1"
   ]
  },
  {
   "cell_type": "code",
   "execution_count": 20,
   "metadata": {},
   "outputs": [
    {
     "data": {
      "text/plain": [
       "[2.8867513459481287,\n",
       " 0.8017837257372732,\n",
       " 2.3094010767585034,\n",
       " 0.9370425713316364,\n",
       " 2.886751345948129]"
      ]
     },
     "execution_count": 20,
     "metadata": {},
     "output_type": "execute_result"
    }
   ],
   "source": [
    "solusiidealnegatif = SolusiIdealNegatif(termterbobot)\n",
    "solusiidealnegatif"
   ]
  },
  {
   "cell_type": "code",
   "execution_count": 21,
   "metadata": {},
   "outputs": [
    {
     "data": {
      "text/plain": [
       "[[2.8867513459481287,\n",
       "  2.4053511772118195,\n",
       "  2.3094010767585034,\n",
       "  1.2493900951088486,\n",
       "  2.886751345948129],\n",
       " [2.8867513459481287,\n",
       "  0.8017837257372732,\n",
       "  2.3094010767585034,\n",
       "  0.9370425713316364,\n",
       "  2.886751345948129]]"
      ]
     },
     "execution_count": 21,
     "metadata": {},
     "output_type": "execute_result"
    }
   ],
   "source": [
    "solusiideal = []\n",
    "solusiideal.append(solusiidealpositif)\n",
    "solusiideal.append(solusiidealnegatif)\n",
    "solusiideal"
   ]
  },
  {
   "cell_type": "markdown",
   "metadata": {},
   "source": [
    "# Menentukan jarak antara nilai dari setiap solusi ideal"
   ]
  },
  {
   "cell_type": "code",
   "execution_count": 22,
   "metadata": {},
   "outputs": [],
   "source": [
    "\"\"\"\n",
    "    PARAMETER :\n",
    "                > matrix1 = nilai dari matrix yang ternormalisasi terbobot\n",
    "                > matrix2 = nilai dari solusi ideal (negatif dan positif)\n",
    "\"\"\"\n",
    "def JarakSolusi(matrix1, matrix2):\n",
    "    all = []\n",
    "    for n in range(2):\n",
    "        solution = []\n",
    "        for i in range(len(matrix1)):\n",
    "            sub = []\n",
    "            k = 0\n",
    "            for j in matrix1[i]:\n",
    "                x = j - matrix2[n][k]\n",
    "                sub.append(x**(2))\n",
    "                k+=1\n",
    "            solution.append(sum(sub)**(1/2))\n",
    "        all.append(solution)\n",
    "    return all"
   ]
  },
  {
   "cell_type": "code",
   "execution_count": 23,
   "metadata": {},
   "outputs": [
    {
     "data": {
      "text/plain": [
       "[[0.8017837257372731, 1.6337042409929428, 0.0],\n",
       " [0.8604755188074202, 0.0, 1.6337042409929428]]"
      ]
     },
     "execution_count": 23,
     "metadata": {},
     "output_type": "execute_result"
    }
   ],
   "source": [
    "jaraksolusi=JarakSolusi(termterbobot, solusiideal)\n",
    "jaraksolusi"
   ]
  },
  {
   "cell_type": "markdown",
   "metadata": {},
   "source": [
    "# Menghitung Preverensi"
   ]
  },
  {
   "cell_type": "code",
   "execution_count": 24,
   "metadata": {},
   "outputs": [],
   "source": [
    "# Menghitung Preverensi\n",
    "\"\"\"\n",
    "    Preferensi didapat dari pembagiam ideal negatif dibagi dengan penjumlahan ideal posisif dan negatif.\n",
    "    PARAMETER : \n",
    "                > matrix = nilai dari setiap jarak solusi\n",
    "\"\"\"\n",
    "def Preverensi(matrix):\n",
    "    all=[]\n",
    "    for i in range(len(matrix[0])):\n",
    "        all.append(matrix[1][i]/(matrix[1][i]+matrix[0][i]))\n",
    "    return all"
   ]
  },
  {
   "cell_type": "code",
   "execution_count": 25,
   "metadata": {},
   "outputs": [
    {
     "data": {
      "text/plain": [
       "[0.5176542236906685, 0.0, 1.0]"
      ]
     },
     "execution_count": 25,
     "metadata": {},
     "output_type": "execute_result"
    }
   ],
   "source": [
    "preverensi = Preverensi(jaraksolusi)\n",
    "preverensi"
   ]
  },
  {
   "cell_type": "markdown",
   "metadata": {},
   "source": [
    "# Determine ranking"
   ]
  },
  {
   "cell_type": "code",
   "execution_count": 26,
   "metadata": {},
   "outputs": [
    {
     "data": {
      "image/png": "[encoded data removed]",
      "text/plain": [
       "<Figure size 432x288 with 1 Axes>"
      ]
     },
     "metadata": {
      "needs_background": "light"
     },
     "output_type": "display_data"
    }
   ],
   "source": [
    "# Perengkingan\n",
    "plt.bar(alternatif, preverensi, width = 0.3, )\n",
    "plt.show()"
   ]
  },
  {
   "cell_type": "code",
   "execution_count": 3,
   "metadata": {},
   "outputs": [],
   "source": [
    "# OKE DONE"
   ]
  },
  {
   "cell_type": "code",
   "execution_count": null,
   "metadata": {},
   "outputs": [],
   "source": []
  }
 ],
 "metadata": {
  "kernelspec": {
   "display_name": "Python 3",
   "language": "python",
   "name": "python3"
  },
  "language_info": {
   "codemirror_mode": {
    "name": "ipython",
    "version": 3
   },
   "file_extension": ".py",
   "mimetype": "text/x-python",
   "name": "python",
   "nbconvert_exporter": "python",
   "pygments_lexer": "ipython3",
   "version": "3.8.3"
  }
 },
 "nbformat": 4,
 "nbformat_minor": 4
}
